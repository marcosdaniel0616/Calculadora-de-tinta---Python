{
  "nbformat": 4,
  "nbformat_minor": 0,
  "metadata": {
    "colab": {
      "name": "Funcoes_com_parametro.ipynb",
      "provenance": [],
      "collapsed_sections": [],
      "authorship_tag": "ABX9TyNVWsr47qeUM8J5tkP5KQbE",
      "include_colab_link": true
    },
    "kernelspec": {
      "name": "python3",
      "display_name": "Python 3"
    },
    "language_info": {
      "name": "python"
    }
  },
  "cells": [
    {
      "cell_type": "markdown",
      "metadata": {
        "id": "view-in-github",
        "colab_type": "text"
      },
      "source": [
        "<a href=\"https://colab.research.google.com/github/marcosdaniel0616/Calculadora-de-tinta---Python/blob/master/Funcoes_com_parametro.ipynb\" target=\"_parent\"><img src=\"https://colab.research.google.com/assets/colab-badge.svg\" alt=\"Open In Colab\"/></a>"
      ]
    },
    {
      "cell_type": "markdown",
      "metadata": {
        "id": "tT3A7ih1OHxN"
      },
      "source": [
        "# Funções com parâmetro (de entrada)\n",
        "- Funções que recebem dados para serem processados dentro da mesma;  \n",
        "  \n",
        "Se a gente pensar em um programa qualquer, geralmente temos:  \n",
        "  \n",
        "entrada -> processamento -> saída  \n",
        "  \n",
        "Se a gente pensar em uma função, já sabemos que temos funções que:  \n",
        "- Não possuem entrada;\n",
        "- Não possuem saída;\n",
        "- Possuem entrada mas não possuem saída;\n",
        "- Não possuem entrada mas possuem saída;\n",
        "- Possuem entrada e saída;"
      ]
    },
    {
      "cell_type": "markdown",
      "metadata": {
        "id": "u8IvZ9lfP_hy"
      },
      "source": [
        "## Refatorando uma função"
      ]
    },
    {
      "cell_type": "code",
      "metadata": {
        "id": "khAy9Q7_NxWV",
        "colab": {
          "base_uri": "https://localhost:8080/"
        },
        "outputId": "b20da181-e7d0-4538-c86d-24d0abdde230"
      },
      "source": [
        "def quadrado_de_7():\n",
        "  return 7 * 7\n",
        "\n",
        "print(quadrado_de_7())\n",
        "print(quadrado_de_7())\n",
        "print(quadrado_de_7())\n",
        "print(quadrado_de_7())"
      ],
      "execution_count": null,
      "outputs": [
        {
          "output_type": "stream",
          "text": [
            "49\n",
            "49\n",
            "49\n",
            "49\n"
          ],
          "name": "stdout"
        }
      ]
    },
    {
      "cell_type": "markdown",
      "metadata": {
        "id": "0vlCrQZvQxQ6"
      },
      "source": [
        "Note que não importa quantas vezes executemos sempre dará o mesmo resultado, mas por quê?  \n",
        "Primeiro, ela não possui entrada e o processamento dela é o mesmo.\n"
      ]
    },
    {
      "cell_type": "markdown",
      "metadata": {
        "id": "6NQ1Ou9uQ_zn"
      },
      "source": [
        "Vamos refatorar essa função:"
      ]
    },
    {
      "cell_type": "code",
      "metadata": {
        "id": "VkWZ3r14QPrS",
        "colab": {
          "base_uri": "https://localhost:8080/"
        },
        "outputId": "111991fb-441a-466c-c6d1-a71f4dbbc7b5"
      },
      "source": [
        "def quadrado(numero):\n",
        "  return numero ** 2\n",
        "\n",
        "\n",
        "print(quadrado(7))\n",
        "print(quadrado(2))\n",
        "print(quadrado(5))"
      ],
      "execution_count": null,
      "outputs": [
        {
          "output_type": "stream",
          "text": [
            "49\n",
            "4\n",
            "25\n"
          ],
          "name": "stdout"
        }
      ]
    },
    {
      "cell_type": "markdown",
      "metadata": {
        "id": "-zs51uMwRem6"
      },
      "source": [
        "Alteramos o nome da função de ```quadrado_de_7``` apenas para ```quadrado``` pois iremos entregar o quadrado do número que for informado. Além disso, acrescentamos um parâmetro chamado ```(numero)``` que será informado, e em vez de retornarmos ```return 7 * 7``` iremos retornar ```return numero * numero``` que deve ser o número informado.  \n",
        "Note que agora ao executar a função nós passamos um valor entre parênteses que é o valor do parâmetro numero: ```print(quadrado(7))```."
      ]
    },
    {
      "cell_type": "markdown",
      "metadata": {
        "id": "2mUb8ixtUVoS"
      },
      "source": [
        "Também posso passar o valor de um retorna para a variável e imprir o retorno:"
      ]
    },
    {
      "cell_type": "code",
      "metadata": {
        "id": "JM3H1kt6RRzv",
        "colab": {
          "base_uri": "https://localhost:8080/"
        },
        "outputId": "f970e002-b2ac-44d3-f67a-228375b07fe3"
      },
      "source": [
        "def quadrado(numero):\n",
        "  return numero ** 2\n",
        "\n",
        "\n",
        "ret = quadrado(6)\n",
        "print(ret)"
      ],
      "execution_count": null,
      "outputs": [
        {
          "output_type": "stream",
          "text": [
            "36\n"
          ],
          "name": "stdout"
        }
      ]
    },
    {
      "cell_type": "markdown",
      "metadata": {
        "id": "CgeqI5y-U1GV"
      },
      "source": [
        "Nas funções com parâmetros, os parâmetros são exigidos e obrigatórios.  \n",
        "Por exemplo se eu tentar executar a função sem o valor do parâmetro numero:"
      ]
    },
    {
      "cell_type": "code",
      "metadata": {
        "colab": {
          "base_uri": "https://localhost:8080/",
          "height": 197
        },
        "id": "ufBYQ76sUiCg",
        "outputId": "04fd5c1b-d1ce-41db-9836-4f776e50103d"
      },
      "source": [
        "def quadrado(numero):\n",
        "  return numero ** 2\n",
        "\n",
        "\n",
        "print(quadrado())"
      ],
      "execution_count": null,
      "outputs": [
        {
          "output_type": "error",
          "ename": "TypeError",
          "evalue": "ignored",
          "traceback": [
            "\u001b[0;31m---------------------------------------------------------------------------\u001b[0m",
            "\u001b[0;31mTypeError\u001b[0m                                 Traceback (most recent call last)",
            "\u001b[0;32m<ipython-input-8-4e9d9ffe5bce>\u001b[0m in \u001b[0;36m<module>\u001b[0;34m()\u001b[0m\n\u001b[1;32m      3\u001b[0m \u001b[0;34m\u001b[0m\u001b[0m\n\u001b[1;32m      4\u001b[0m \u001b[0;34m\u001b[0m\u001b[0m\n\u001b[0;32m----> 5\u001b[0;31m \u001b[0mprint\u001b[0m\u001b[0;34m(\u001b[0m\u001b[0mquadrado\u001b[0m\u001b[0;34m(\u001b[0m\u001b[0;34m)\u001b[0m\u001b[0;34m)\u001b[0m\u001b[0;34m\u001b[0m\u001b[0;34m\u001b[0m\u001b[0m\n\u001b[0m",
            "\u001b[0;31mTypeError\u001b[0m: quadrado() missing 1 required positional argument: 'numero'"
          ]
        }
      ]
    },
    {
      "cell_type": "markdown",
      "metadata": {
        "id": "xfkweLWJVHOm"
      },
      "source": [
        "Note que recebemos um ```TypeError```."
      ]
    },
    {
      "cell_type": "markdown",
      "metadata": {
        "id": "EaU4Eu1KVajX"
      },
      "source": [
        "## Refatorando outra função que já criamos anteriormente:"
      ]
    },
    {
      "cell_type": "code",
      "metadata": {
        "colab": {
          "base_uri": "https://localhost:8080/"
        },
        "id": "rD1cHETrVFmG",
        "outputId": "5e388976-29a2-4106-e467-6eb64572c610"
      },
      "source": [
        "def cantar_parabens():\n",
        "  print('Parabéns pra você')\n",
        "  print('Nessa data querida')\n",
        "  print('Muitas felicidades')\n",
        "  print('Muitos anos de vida')\n",
        "  print('Viva o aniversariante!')\n",
        "\n",
        "\n",
        "cantar_parabens()"
      ],
      "execution_count": null,
      "outputs": [
        {
          "output_type": "stream",
          "text": [
            "Parabéns pra você\n",
            "Nessa data querida\n",
            "Muitas felicidades\n",
            "Muitos anos de vida\n",
            "Viva o aniversariante!\n"
          ],
          "name": "stdout"
        }
      ]
    },
    {
      "cell_type": "markdown",
      "metadata": {
        "id": "0_srXM42Vx0M"
      },
      "source": [
        "Essa função seria bem mais legal se em vez de dizermos \"Viva o aniversariamente\" informassemos o nome do aniversariante."
      ]
    },
    {
      "cell_type": "code",
      "metadata": {
        "colab": {
          "base_uri": "https://localhost:8080/"
        },
        "id": "unhMH36WVsIV",
        "outputId": "18503208-a010-4efb-d57b-c87951d8c91f"
      },
      "source": [
        "def cantar_parabens(aniversariante):\n",
        "  print('Parabéns pra você')\n",
        "  print('Nessa data querida')\n",
        "  print('Muitas felicidades')\n",
        "  print('Muitos anos de vida')\n",
        "  print(f'Viva o(a) {aniversariante}!')\n",
        "\n",
        "\n",
        "cantar_parabens('Patrícia')"
      ],
      "execution_count": null,
      "outputs": [
        {
          "output_type": "stream",
          "text": [
            "Parabéns pra você\n",
            "Nessa data querida\n",
            "Muitas felicidades\n",
            "Muitos anos de vida\n",
            "Viva o(a) Patrícia!\n"
          ],
          "name": "stdout"
        }
      ]
    },
    {
      "cell_type": "markdown",
      "metadata": {
        "id": "3HzxhgyAWW9u"
      },
      "source": [
        "Também podemos fazer de uma forma perguntando diretamente ao usuário:"
      ]
    },
    {
      "cell_type": "code",
      "metadata": {
        "colab": {
          "base_uri": "https://localhost:8080/"
        },
        "id": "1TL_4WswWCx9",
        "outputId": "8734b200-1b28-407f-e1a7-082e8a672e82"
      },
      "source": [
        "def cantar_parabens(aniversariante):\n",
        "  print('Parabéns pra você')\n",
        "  print('Nessa data querida')\n",
        "  print('Muitas felicidades')\n",
        "  print('Muitos anos de vida')\n",
        "  print(f'Viva o(a) {aniversariante}!')\n",
        "\n",
        "\n",
        "cantar_parabens(str(input('Informe o nome do(a) aniversariante: ')))"
      ],
      "execution_count": null,
      "outputs": [
        {
          "output_type": "stream",
          "text": [
            "Informe o nome do(a) aniversariante: Daniel\n",
            "Parabéns pra você\n",
            "Nessa data querida\n",
            "Muitas felicidades\n",
            "Muitos anos de vida\n",
            "Viva o(a) Daniel!\n"
          ],
          "name": "stdout"
        }
      ]
    },
    {
      "cell_type": "markdown",
      "metadata": {
        "id": "cD9Q7QtrW7Iv"
      },
      "source": [
        "## Funções podem ter qualquer número de parâmetros de entrada, ou seja, podemos receber como entrada em uma função quantos parâmetros forem necessários. Eles são separados por vírgula."
      ]
    },
    {
      "cell_type": "markdown",
      "metadata": {
        "id": "tbw1261sXrFG"
      },
      "source": [
        "### Exemplo:"
      ]
    },
    {
      "cell_type": "code",
      "metadata": {
        "colab": {
          "base_uri": "https://localhost:8080/"
        },
        "id": "Y3F-6RMsWhO0",
        "outputId": "d8a83f4e-04d1-42a5-ca6a-7b560d18649a"
      },
      "source": [
        "def soma(a, b):\n",
        "  return a + b\n",
        "\n",
        "\n",
        "def multiplica(num1, num2):\n",
        "  return num1 * num2\n",
        "\n",
        "\n",
        "def outra(num1, b, msg):\n",
        "  return (num1 + b) * msg\n",
        "\n",
        "\n",
        "print(soma(2, 5))\n",
        "print(soma(10, 20))\n",
        "\n",
        "print(multiplica(4, 5))\n",
        "print(multiplica(2, 8))\n",
        "\n",
        "print(outra(3, 2, 'Geek'))\n",
        "print(outra(5, 4, 'Python'))"
      ],
      "execution_count": null,
      "outputs": [
        {
          "output_type": "stream",
          "text": [
            "7\n",
            "30\n",
            "20\n",
            "16\n",
            "GeekGeekGeekGeekGeek\n",
            "PythonPythonPythonPythonPythonPythonPythonPythonPython\n"
          ],
          "name": "stdout"
        }
      ]
    },
    {
      "cell_type": "markdown",
      "metadata": {
        "id": "iFuaeeCjYuHL"
      },
      "source": [
        "### Obs: Se informarmos um número incorreto de parâmetros ou argumentos (pra mais ou pra menos), teremos TypeError:"
      ]
    },
    {
      "cell_type": "code",
      "metadata": {
        "colab": {
          "base_uri": "https://localhost:8080/",
          "height": 197
        },
        "id": "V5zmZMtjYErl",
        "outputId": "7f9917ab-2da6-4da2-a631-a6f09f20f042"
      },
      "source": [
        "def alou(a, b):\n",
        "  return a, b\n",
        "\n",
        "\n",
        "print(alou(1)) # Passando argumentos a menos"
      ],
      "execution_count": null,
      "outputs": [
        {
          "output_type": "error",
          "ename": "TypeError",
          "evalue": "ignored",
          "traceback": [
            "\u001b[0;31m---------------------------------------------------------------------------\u001b[0m",
            "\u001b[0;31mTypeError\u001b[0m                                 Traceback (most recent call last)",
            "\u001b[0;32m<ipython-input-24-238069f1c792>\u001b[0m in \u001b[0;36m<module>\u001b[0;34m()\u001b[0m\n\u001b[1;32m      3\u001b[0m \u001b[0;34m\u001b[0m\u001b[0m\n\u001b[1;32m      4\u001b[0m \u001b[0;34m\u001b[0m\u001b[0m\n\u001b[0;32m----> 5\u001b[0;31m \u001b[0mprint\u001b[0m\u001b[0;34m(\u001b[0m\u001b[0malou\u001b[0m\u001b[0;34m(\u001b[0m\u001b[0;36m1\u001b[0m\u001b[0;34m)\u001b[0m\u001b[0;34m)\u001b[0m\u001b[0;34m\u001b[0m\u001b[0;34m\u001b[0m\u001b[0m\n\u001b[0m",
            "\u001b[0;31mTypeError\u001b[0m: alou() missing 1 required positional argument: 'b'"
          ]
        }
      ]
    },
    {
      "cell_type": "code",
      "metadata": {
        "colab": {
          "base_uri": "https://localhost:8080/",
          "height": 197
        },
        "id": "HiRT5stNZCWN",
        "outputId": "4d1c4e0c-a32c-4767-9f8d-4f3aba78332b"
      },
      "source": [
        "def alou(a, b):\n",
        "  return a, b\n",
        "\n",
        "\n",
        "print(alou(1, 2, 3)) # Passando argumentos a mais"
      ],
      "execution_count": null,
      "outputs": [
        {
          "output_type": "error",
          "ename": "TypeError",
          "evalue": "ignored",
          "traceback": [
            "\u001b[0;31m---------------------------------------------------------------------------\u001b[0m",
            "\u001b[0;31mTypeError\u001b[0m                                 Traceback (most recent call last)",
            "\u001b[0;32m<ipython-input-25-a25d5ef69ced>\u001b[0m in \u001b[0;36m<module>\u001b[0;34m()\u001b[0m\n\u001b[1;32m      3\u001b[0m \u001b[0;34m\u001b[0m\u001b[0m\n\u001b[1;32m      4\u001b[0m \u001b[0;34m\u001b[0m\u001b[0m\n\u001b[0;32m----> 5\u001b[0;31m \u001b[0mprint\u001b[0m\u001b[0;34m(\u001b[0m\u001b[0malou\u001b[0m\u001b[0;34m(\u001b[0m\u001b[0;36m1\u001b[0m\u001b[0;34m,\u001b[0m \u001b[0;36m2\u001b[0m\u001b[0;34m,\u001b[0m \u001b[0;36m3\u001b[0m\u001b[0;34m)\u001b[0m\u001b[0;34m)\u001b[0m\u001b[0;34m\u001b[0m\u001b[0;34m\u001b[0m\u001b[0m\n\u001b[0m",
            "\u001b[0;31mTypeError\u001b[0m: alou() takes 2 positional arguments but 3 were given"
          ]
        }
      ]
    },
    {
      "cell_type": "markdown",
      "metadata": {
        "id": "1VBUhF9bZFqM"
      },
      "source": [
        "Na primeira, informamos 1 valor onde dois haviam sido pedidos, na segunda informamos 3 onde haviam sido pedidos apenas 2 valores, note que nas duas obtivemos um TypeError."
      ]
    },
    {
      "cell_type": "markdown",
      "metadata": {
        "id": "0QIU7ZrDaaRQ"
      },
      "source": [
        "## Nomeando parâmetros"
      ]
    },
    {
      "cell_type": "code",
      "metadata": {
        "colab": {
          "base_uri": "https://localhost:8080/"
        },
        "id": "BERx09SSZEjo",
        "outputId": "3b839e2d-8fa5-488b-91f6-654c799dcc99"
      },
      "source": [
        "def nome_completo(string1, string2):\n",
        "  return f'Seu nome completo é {string1} {string2}'\n",
        "\n",
        "print(nome_completo('Marcos', 'Daniel'))"
      ],
      "execution_count": null,
      "outputs": [
        {
          "output_type": "stream",
          "text": [
            "Seu nome completo é Marcos Daniel\n"
          ],
          "name": "stdout"
        }
      ]
    },
    {
      "cell_type": "markdown",
      "metadata": {
        "id": "zRWSufGQa1IP"
      },
      "source": [
        "Nessa definição temos um problema, o código executa corretamente mas estamos pedindo dois parâmetros: o ```string1``` e o ```string2```, embora funcione, torna mais legível nosso código informar o que estamos pedindo, nesse caso:"
      ]
    },
    {
      "cell_type": "code",
      "metadata": {
        "colab": {
          "base_uri": "https://localhost:8080/"
        },
        "id": "R9azzyNfaqC8",
        "outputId": "f61be642-cb42-4a2a-c8f2-1d917da2cd7e"
      },
      "source": [
        "def nome_completo(nome, sobrenome):\n",
        "  return f'Seu nome completo é {nome} {sobrenome}'\n",
        "\n",
        "print(nome_completo('Marcos', 'Daniel'))"
      ],
      "execution_count": null,
      "outputs": [
        {
          "output_type": "stream",
          "text": [
            "Seu nome completo é Marcos Daniel\n"
          ],
          "name": "stdout"
        }
      ]
    },
    {
      "cell_type": "markdown",
      "metadata": {
        "id": "SI1p9LyBbNDm"
      },
      "source": [
        "O mesmo vale para o nome da função, devemos tentar fazer com que o nome nos esclareça o que a função faz, como nesse caso que a função ```nome_completo``` nos informa o nome completo.  \n",
        "Isso não muda nada na execução mas ajuda na legibilidade do código."
      ]
    },
    {
      "cell_type": "markdown",
      "metadata": {
        "id": "5ym9aRxVcoW7"
      },
      "source": [
        "## A diferença entre Parâmetros e Argumentos\n",
        "- Parâmetros são variáveis declaradas na definição da função;\n",
        "- Argumentos são dados passados durante a execução de uma função;"
      ]
    },
    {
      "cell_type": "markdown",
      "metadata": {
        "id": "_3Y5hrJwc6o2"
      },
      "source": [
        "Outra coisa importante\n",
        "### A ordem dos parâmetros importa. Ex:"
      ]
    },
    {
      "cell_type": "code",
      "metadata": {
        "colab": {
          "base_uri": "https://localhost:8080/"
        },
        "id": "1xTt0bmXbMeb",
        "outputId": "3d758211-5ac9-45ac-ca02-37a737332e26"
      },
      "source": [
        "def nome_completo(nome, sobrenome):\n",
        "  return f'Seu nome completo é {nome} {sobrenome}'\n",
        "\n",
        "\n",
        "print(nome_completo('Angelina', 'Jolie'))"
      ],
      "execution_count": null,
      "outputs": [
        {
          "output_type": "stream",
          "text": [
            "Seu nome completo é Angelina Jolie\n"
          ],
          "name": "stdout"
        }
      ]
    },
    {
      "cell_type": "markdown",
      "metadata": {
        "id": "XktEsEcUdUhe"
      },
      "source": [
        "Nessa caso funciona corretamente, mas vejamos o que acontece se eu inverter a ordem."
      ]
    },
    {
      "cell_type": "code",
      "metadata": {
        "colab": {
          "base_uri": "https://localhost:8080/"
        },
        "id": "XP7ylOTpdMN9",
        "outputId": "0f4ef869-7d26-4c01-9e40-9f621ee23557"
      },
      "source": [
        "def nome_completo(nome, sobrenome):\n",
        "  return f'Seu nome completo é {nome} {sobrenome}'\n",
        "\n",
        "\n",
        "print(nome_completo('Jolie', 'Angelina'))"
      ],
      "execution_count": null,
      "outputs": [
        {
          "output_type": "stream",
          "text": [
            "Seu nome completo é Jolie Angelina\n"
          ],
          "name": "stdout"
        }
      ]
    },
    {
      "cell_type": "markdown",
      "metadata": {
        "id": "Yy5Z--yrdceZ"
      },
      "source": [
        "Note que o nome ficou na ordem incorreta."
      ]
    },
    {
      "cell_type": "markdown",
      "metadata": {
        "id": "rCmdWzwfdjpK"
      },
      "source": [
        "## Argumentos nomeados (Keyword Arguments)\n",
        "### Caso utilizemos nomes dos parâmetros nos argumentos para informá-los, podemos utilizar qualquer ordem."
      ]
    },
    {
      "cell_type": "code",
      "metadata": {
        "colab": {
          "base_uri": "https://localhost:8080/"
        },
        "id": "u13pvDiHdbxD",
        "outputId": "86336758-75fa-47fb-9688-27ea3cb14162"
      },
      "source": [
        "def nome_completo(nome, sobrenome):\n",
        "  return f'Seu nome completo é {nome} {sobrenome}'\n",
        "\n",
        "print(nome_completo(nome='Angelina', sobrenome='Jolie'))"
      ],
      "execution_count": null,
      "outputs": [
        {
          "output_type": "stream",
          "text": [
            "Seu nome completo é Angelina Jolie\n"
          ],
          "name": "stdout"
        }
      ]
    },
    {
      "cell_type": "code",
      "metadata": {
        "colab": {
          "base_uri": "https://localhost:8080/"
        },
        "id": "_Ql_kUo1d4_0",
        "outputId": "9e86b791-bd50-4e56-eb20-de24bac76de7"
      },
      "source": [
        "def nome_completo(nome, sobrenome):\n",
        "  return f'Seu nome completo é {nome} {sobrenome}'\n",
        "\n",
        "print(nome_completo(sobrenome='Jolie', nome='Angelina'))"
      ],
      "execution_count": null,
      "outputs": [
        {
          "output_type": "stream",
          "text": [
            "Seu nome completo é Angelina Jolie\n"
          ],
          "name": "stdout"
        }
      ]
    },
    {
      "cell_type": "markdown",
      "metadata": {
        "id": "JMfKnlTzeBhc"
      },
      "source": [
        "Note que dessa forma, mesmo passando em ordem diferentes irá executar corretamente já que informamos qual seria a ordem de cada parâmetro."
      ]
    },
    {
      "cell_type": "markdown",
      "metadata": {
        "id": "c9JrK08zec-Y"
      },
      "source": [
        "## Erro comum na utilização do ```return```."
      ]
    },
    {
      "cell_type": "code",
      "metadata": {
        "colab": {
          "base_uri": "https://localhost:8080/"
        },
        "id": "J8czQt9neAYy",
        "outputId": "7fa9474b-5992-4e1d-e14a-ab1717553ebf"
      },
      "source": [
        "def soma_impares(numeros):\n",
        "  total = 0\n",
        "  for numero in numeros:\n",
        "    if numero % 2 != 0:\n",
        "      total += numero\n",
        "      return total\n",
        "\n",
        "\n",
        "lista = [1, 2, 3, 4, 5, 6, 7]\n",
        "\n",
        "print(soma_impares(lista))"
      ],
      "execution_count": null,
      "outputs": [
        {
          "output_type": "stream",
          "text": [
            "1\n"
          ],
          "name": "stdout"
        }
      ]
    },
    {
      "cell_type": "markdown",
      "metadata": {
        "id": "3FsaP7CHfJ_w"
      },
      "source": [
        "Por que esta é a forma errada? essa é a forma errada pois a identação faz com que o ```return``` seja executado no loop, encerrando a função. Então como corrigir?"
      ]
    },
    {
      "cell_type": "code",
      "metadata": {
        "colab": {
          "base_uri": "https://localhost:8080/"
        },
        "id": "LoiBO15ieuor",
        "outputId": "21515203-0630-4075-cfd0-724b91293ecf"
      },
      "source": [
        "def soma_impares(numeros):\n",
        "  total = 0\n",
        "  for numero in numeros:\n",
        "    if numero % 2 != 0:\n",
        "      total += numero\n",
        "  return total\n",
        "\n",
        "\n",
        "lista = [1, 2, 3, 4, 5, 6, 7]\n",
        "\n",
        "print(soma_impares(lista))"
      ],
      "execution_count": null,
      "outputs": [
        {
          "output_type": "stream",
          "text": [
            "16\n"
          ],
          "name": "stdout"
        }
      ]
    },
    {
      "cell_type": "markdown",
      "metadata": {
        "id": "sqZcaI6UfbeS"
      },
      "source": [
        "Como pudemos ver, só precisamos identar o ```return``` da forma correta, executando-o logo após o loop."
      ]
    },
    {
      "cell_type": "code",
      "metadata": {
        "id": "XTmOnizJfaY_"
      },
      "source": [
        ""
      ],
      "execution_count": null,
      "outputs": []
    }
  ]
}