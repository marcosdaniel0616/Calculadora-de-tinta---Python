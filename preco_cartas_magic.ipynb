{
  "nbformat": 4,
  "nbformat_minor": 5,
  "metadata": {
    "kernelspec": {
      "display_name": "Python 3",
      "language": "python",
      "name": "python3"
    },
    "language_info": {
      "codemirror_mode": {
        "name": "ipython",
        "version": 3
      },
      "file_extension": ".py",
      "mimetype": "text/x-python",
      "name": "python",
      "nbconvert_exporter": "python",
      "pygments_lexer": "ipython3",
      "version": "3.8.8"
    },
    "colab": {
      "name": "preco_cartas_magic.ipynb",
      "provenance": [],
      "collapsed_sections": [],
      "include_colab_link": true
    }
  },
  "cells": [
    {
      "cell_type": "markdown",
      "metadata": {
        "id": "view-in-github",
        "colab_type": "text"
      },
      "source": [
        "<a href=\"https://colab.research.google.com/github/marcosdaniel0616/Calculadora-de-tinta---Python/blob/master/preco_cartas_magic.ipynb\" target=\"_parent\"><img src=\"https://colab.research.google.com/assets/colab-badge.svg\" alt=\"Open In Colab\"/></a>"
      ]
    },
    {
      "cell_type": "markdown",
      "metadata": {
        "id": "8e887614"
      },
      "source": [
        "# Preço das Cartas do meu deck de Magic (Exemplo)"
      ],
      "id": "8e887614"
    },
    {
      "cell_type": "code",
      "metadata": {
        "id": "33fe8470",
        "colab": {
          "base_uri": "https://localhost:8080/",
          "height": 222
        },
        "outputId": "93b2e283-4d06-4434-96bc-ab358d3f51d3"
      },
      "source": [
        "# importar bibliotecas necessárias\n",
        "from bs4 import BeautifulSoup\n",
        "from urllib.request import urlopen\n",
        "from urllib.error import HTTPError\n",
        "from urllib.error import URLError\n",
        "import pandas as pd\n",
        "from datetime import datetime\n",
        "\n",
        "# URL do meu deck (Exemplo)\n",
        "\n",
        "url = 'https://www.ligamagic.com.br/?view=dks/deck&id=2727940'\n",
        "\n",
        "# Lendo o HTML do meu deck e inicando tratamento de exceções\n",
        "if 'ligamagic.com.br/?view=dks/deck&id=' not in url:\n",
        "    raise URLError('Informe uma URL válida de um deck cadastrado na Liga Magic')\n",
        "try:\n",
        "    html = urlopen(url)\n",
        "except HTTPError:\n",
        "    # Erros HTTP\n",
        "    print(HTTPError)\n",
        "except URLError:\n",
        "    # Erros de URL\n",
        "    print('URL inválida')\n",
        "\n",
        "# raspando essas informações com o Beautiful Soup\n",
        "bs = BeautifulSoup(html, 'lxml')\n",
        "\n",
        "# Imprimindo o nome do deck\n",
        "display(bs.title.text)\n",
        "\n",
        "# salvando os dados de todas as cartas\n",
        "cartas = bs.select('.pdeck-block tr')\n",
        "\n",
        "# dados das cartas\n",
        "quantidades = []\n",
        "nomes = []\n",
        "precos = []\n",
        "\n",
        "# Salvando dados das cartas\n",
        "for indice, carta in enumerate(cartas):\n",
        "    if carta.find('td', class_='deck-card') != None:\n",
        "        # Evitando repetições\n",
        "        if carta.find('td', class_='deck-card').text in nomes:\n",
        "            break\n",
        "        else:\n",
        "            nomes.append(carta.find('td', class_='deck-card').get_text())\n",
        "    if carta.find('td', class_='deck-qty') != None:\n",
        "        quantidades.append(carta.find('td', class_='deck-qty').get_text())\n",
        "    if carta.find('font', class_=f'pdeck_preco_2_{url[-7:]}') != None:\n",
        "        precos.append(carta.find('font', class_=f'pdeck_preco_2_{url[-7:]}').get_text())\n",
        "\n",
        "\n",
        "# Armazenando dados de data e hora\n",
        "data_hora = datetime.today()\n",
        "data = f'{data_hora.day}-{data_hora.month}-{data_hora.year}'\n",
        "hora = f'{data_hora.hour}-{data_hora.minute}-{data_hora.second}'\n",
        "    \n",
        "\n",
        "# Mostrando com a ajuda do Pandas\n",
        "df = pd.DataFrame({\n",
        "    \"Quantidade\": quantidades,\n",
        "    \"Nome\": nomes,\n",
        "    \"Menor Preço\": precos\n",
        "})\n",
        "\n",
        "# Salvando arquivo CSV\n",
        "df.to_csv(f'{bs.title.text} {data} {hora}.csv')\n",
        "df.head()"
      ],
      "id": "33fe8470",
      "execution_count": null,
      "outputs": [
        {
          "output_type": "display_data",
          "data": {
            "application/vnd.google.colaboratory.intrinsic+json": {
              "type": "string"
            },
            "text/plain": [
              "'Pirataria Barata - Deck Magic: The Gathering | LigaMagic'"
            ]
          },
          "metadata": {}
        },
        {
          "output_type": "execute_result",
          "data": {
            "text/html": [
              "<div>\n",
              "<style scoped>\n",
              "    .dataframe tbody tr th:only-of-type {\n",
              "        vertical-align: middle;\n",
              "    }\n",
              "\n",
              "    .dataframe tbody tr th {\n",
              "        vertical-align: top;\n",
              "    }\n",
              "\n",
              "    .dataframe thead th {\n",
              "        text-align: right;\n",
              "    }\n",
              "</style>\n",
              "<table border=\"1\" class=\"dataframe\">\n",
              "  <thead>\n",
              "    <tr style=\"text-align: right;\">\n",
              "      <th></th>\n",
              "      <th>Quantidade</th>\n",
              "      <th>Nome</th>\n",
              "      <th>Menor Preço</th>\n",
              "    </tr>\n",
              "  </thead>\n",
              "  <tbody>\n",
              "    <tr>\n",
              "      <th>0</th>\n",
              "      <td>1</td>\n",
              "      <td>Malcolm, Navegador da Hipervisão</td>\n",
              "      <td>0,78</td>\n",
              "    </tr>\n",
              "    <tr>\n",
              "      <th>1</th>\n",
              "      <td>1</td>\n",
              "      <td>Bermuda, Saqueador Brônzeo</td>\n",
              "      <td>0,25</td>\n",
              "    </tr>\n",
              "    <tr>\n",
              "      <th>2</th>\n",
              "      <td>1</td>\n",
              "      <td>Bucaneira Ousada</td>\n",
              "      <td>0,09</td>\n",
              "    </tr>\n",
              "    <tr>\n",
              "      <th>3</th>\n",
              "      <td>1</td>\n",
              "      <td>Corredor da Cordoalha</td>\n",
              "      <td>0,15</td>\n",
              "    </tr>\n",
              "    <tr>\n",
              "      <th>4</th>\n",
              "      <td>1</td>\n",
              "      <td>Domador de Tempestades Sireno</td>\n",
              "      <td>1,00</td>\n",
              "    </tr>\n",
              "  </tbody>\n",
              "</table>\n",
              "</div>"
            ],
            "text/plain": [
              "  Quantidade                              Nome Menor Preço\n",
              "0        1    Malcolm, Navegador da Hipervisão        0,78\n",
              "1        1          Bermuda, Saqueador Brônzeo        0,25\n",
              "2        1                    Bucaneira Ousada        0,09\n",
              "3        1               Corredor da Cordoalha        0,15\n",
              "4        1       Domador de Tempestades Sireno        1,00"
            ]
          },
          "metadata": {},
          "execution_count": 12
        }
      ]
    },
    {
      "cell_type": "markdown",
      "metadata": {
        "id": "ff0b2b87"
      },
      "source": [
        "# Preço de qualquer deck de Magic (cadastrado na liga-magic)"
      ],
      "id": "ff0b2b87"
    },
    {
      "cell_type": "code",
      "metadata": {
        "id": "c11c1802",
        "colab": {
          "base_uri": "https://localhost:8080/",
          "height": 256
        },
        "outputId": "088dadde-107f-4adc-decc-72e58ca4a975"
      },
      "source": [
        "# importar bibliotecas necessárias\n",
        "from bs4 import BeautifulSoup\n",
        "from urllib.request import urlopen\n",
        "from urllib.error import HTTPError\n",
        "from urllib.error import URLError\n",
        "import pandas as pd\n",
        "from datetime import datetime\n",
        "\n",
        "# URL do deck que o usuário queira ver os preços\n",
        "print('Informe o link do deck que você queira verificar e salvar em um CSV o menor preço das cartas.')\n",
        "\n",
        "url = str(input('link do deck na liga magic: '))\n",
        "\n",
        "# Lendo o HTML do meu deck e inicando tratamento de exceções\n",
        "if 'ligamagic.com.br/?view=dks/deck&id=' not in url:\n",
        "    raise URLError('Informe uma URL válida de um deck cadastrado na Liga Magic')\n",
        "try:\n",
        "    html = urlopen(url)\n",
        "except HTTPError:\n",
        "    # Erros HTTP\n",
        "    print(HTTPError)\n",
        "except URLError:\n",
        "    # Erros de URL\n",
        "    print('URL inválida')\n",
        "\n",
        "# raspando essas informações com o Beautiful Soup\n",
        "bs = BeautifulSoup(html, 'lxml')\n",
        "\n",
        "# Imprimindo o nome do deck\n",
        "display(bs.title.text)\n",
        "\n",
        "# salvando os dados de todas as cartas\n",
        "cartas = bs.select('.pdeck-block tr')\n",
        "\n",
        "# dados das cartas\n",
        "quantidades = []\n",
        "nomes = []\n",
        "precos = []\n",
        "\n",
        "# Salvando dados das cartas\n",
        "for indice, carta in enumerate(cartas):\n",
        "    if carta.find('td', class_='deck-card') != None:\n",
        "        # Evitando repetições\n",
        "        if carta.find('td', class_='deck-card').text in nomes:\n",
        "            break\n",
        "        else:\n",
        "            nomes.append(carta.find('td', class_='deck-card').get_text())\n",
        "    if carta.find('td', class_='deck-qty') != None:\n",
        "        quantidades.append(carta.find('td', class_='deck-qty').get_text())\n",
        "    if carta.find('font', class_=f'pdeck_preco_2_{url[-7:]}') != None:\n",
        "        precos.append(carta.find('font', class_=f'pdeck_preco_2_{url[-7:]}').get_text())\n",
        "\n",
        "\n",
        "# Armazenando dados de data e hora\n",
        "data_hora = datetime.today()\n",
        "data = f'{data_hora.day}-{data_hora.month}-{data_hora.year}'\n",
        "hora = f'{data_hora.hour}-{data_hora.minute}-{data_hora.second}'\n",
        "    \n",
        "\n",
        "# Mostrando com a ajuda do Pandas\n",
        "df = pd.DataFrame({\n",
        "    \"Quantidade\": quantidades,\n",
        "    \"Nome\": nomes,\n",
        "    \"Menor Preço\": precos\n",
        "})\n",
        "\n",
        "# Salvando arquivo CSV\n",
        "df.to_csv(f'{bs.title.text} {data} {hora}.csv')\n",
        "df.head()"
      ],
      "id": "c11c1802",
      "execution_count": null,
      "outputs": [
        {
          "name": "stdout",
          "output_type": "stream",
          "text": [
            "Informe o link do deck que você queira verificar e salvar em um CSV o menor preço das cartas.\n",
            "link do deck na liga magic: https://www.ligamagic.com.br/?view=dks/deck&id=2720312\n"
          ]
        },
        {
          "output_type": "display_data",
          "data": {
            "application/vnd.google.colaboratory.intrinsic+json": {
              "type": "string"
            },
            "text/plain": [
              "'Najeela warriors - Deck Magic: The Gathering | LigaMagic'"
            ]
          },
          "metadata": {}
        },
        {
          "output_type": "execute_result",
          "data": {
            "text/html": [
              "<div>\n",
              "<style scoped>\n",
              "    .dataframe tbody tr th:only-of-type {\n",
              "        vertical-align: middle;\n",
              "    }\n",
              "\n",
              "    .dataframe tbody tr th {\n",
              "        vertical-align: top;\n",
              "    }\n",
              "\n",
              "    .dataframe thead th {\n",
              "        text-align: right;\n",
              "    }\n",
              "</style>\n",
              "<table border=\"1\" class=\"dataframe\">\n",
              "  <thead>\n",
              "    <tr style=\"text-align: right;\">\n",
              "      <th></th>\n",
              "      <th>Quantidade</th>\n",
              "      <th>Nome</th>\n",
              "      <th>Menor Preço</th>\n",
              "    </tr>\n",
              "  </thead>\n",
              "  <tbody>\n",
              "    <tr>\n",
              "      <th>0</th>\n",
              "      <td>1</td>\n",
              "      <td>Najeela, a Flor Afiada</td>\n",
              "      <td>88,90</td>\n",
              "    </tr>\n",
              "    <tr>\n",
              "      <th>1</th>\n",
              "      <td>1</td>\n",
              "      <td>Campeão Banhado em Sangue</td>\n",
              "      <td>3,99</td>\n",
              "    </tr>\n",
              "    <tr>\n",
              "      <th>2</th>\n",
              "      <td>1</td>\n",
              "      <td>Elfo Espadachim Solar</td>\n",
              "      <td>0,12</td>\n",
              "    </tr>\n",
              "    <tr>\n",
              "      <th>3</th>\n",
              "      <td>1</td>\n",
              "      <td>Lâmina de Ódio Mardu</td>\n",
              "      <td>0,05</td>\n",
              "    </tr>\n",
              "    <tr>\n",
              "      <th>4</th>\n",
              "      <td>1</td>\n",
              "      <td>Lança Sombria Mardu</td>\n",
              "      <td>0,10</td>\n",
              "    </tr>\n",
              "  </tbody>\n",
              "</table>\n",
              "</div>"
            ],
            "text/plain": [
              "  Quantidade                       Nome Menor Preço\n",
              "0        1       Najeela, a Flor Afiada       88,90\n",
              "1        1    Campeão Banhado em Sangue        3,99\n",
              "2        1        Elfo Espadachim Solar        0,12\n",
              "3        1         Lâmina de Ódio Mardu        0,05\n",
              "4        1          Lança Sombria Mardu        0,10"
            ]
          },
          "metadata": {},
          "execution_count": 14
        }
      ]
    },
    {
      "cell_type": "code",
      "metadata": {
        "id": "T9SZ6m5gZduO"
      },
      "source": [
        ""
      ],
      "id": "T9SZ6m5gZduO",
      "execution_count": null,
      "outputs": []
    }
  ]
}