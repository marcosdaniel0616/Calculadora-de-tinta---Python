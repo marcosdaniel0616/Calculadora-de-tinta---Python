{
  "nbformat": 4,
  "nbformat_minor": 0,
  "metadata": {
    "colab": {
      "name": "atributos.ipynb",
      "provenance": [],
      "collapsed_sections": [],
      "authorship_tag": "ABX9TyPKn9H2yTGGvvQrPtjXVjdb",
      "include_colab_link": true
    },
    "kernelspec": {
      "name": "python3",
      "display_name": "Python 3"
    },
    "language_info": {
      "name": "python"
    }
  },
  "cells": [
    {
      "cell_type": "markdown",
      "metadata": {
        "id": "view-in-github",
        "colab_type": "text"
      },
      "source": [
        "<a href=\"https://colab.research.google.com/github/marcosdaniel0616/Calculadora-de-tinta---Python/blob/master/atributos.ipynb\" target=\"_parent\"><img src=\"https://colab.research.google.com/assets/colab-badge.svg\" alt=\"Open In Colab\"/></a>"
      ]
    },
    {
      "cell_type": "markdown",
      "metadata": {
        "id": "VGeeV5uWOVkA"
      },
      "source": [
        "# POO - Atributos\n",
        "- Atributos -> Representam as características do objeto. Ou seja, pelos atributos nós conseguimos representar computacionalmente os estados de um objeto.\n",
        "\n",
        "Em Python, dividimos os atributos em 3 grupos:\n",
        "  - Atributos de instância;\n",
        "  - Atributos de classe;\n",
        "  - Atributos dinâmicos."
      ]
    },
    {
      "cell_type": "markdown",
      "metadata": {
        "id": "b9_xp_3nOxfG"
      },
      "source": [
        "## Atributos de instância: São atributos declarados dentro do método construtor.\n",
        "\n",
        "### OBS: Método construtor: é um método especial utilizado para a construção do objeto.\n",
        "\n",
        "## Exemplo:\n",
        "\n"
      ]
    },
    {
      "cell_type": "code",
      "metadata": {
        "id": "2HX4uO-FKO-F"
      },
      "source": [
        "class Lampada:\n",
        "\n",
        "  def __init__(self, voltagem, cor):\n",
        "    self.voltagem = voltagem\n",
        "    self.cor = cor\n",
        "    self.ligada = False\n",
        "\n",
        "\n",
        "class ContaCorrente:\n",
        "\n",
        "  def __init__(self, numero, limite, saldo):\n",
        "    self.numero = numero\n",
        "    self. limite = limite\n",
        "    self. saldo = saldo\n",
        "\n",
        "\n",
        "class Produto:\n",
        "\n",
        "  def __init__(self, nome, descricao, valor):\n",
        "    self.nome = nome\n",
        "    self.descricao = descricao\n",
        "    self.valor = valor\n",
        "\n",
        "\n",
        "class Usuario:\n",
        "\n",
        "  def __init__(self, nome, email, senha):\n",
        "    self.nome = nome\n",
        "    self.email = email\n",
        "    self.senha = senha"
      ],
      "execution_count": null,
      "outputs": []
    },
    {
      "cell_type": "markdown",
      "metadata": {
        "id": "YqLw01FeTJNu"
      },
      "source": [
        "Agora que nós criamos as classes, vamos entender algumas coisas... Esses defs dentro das classes são métodos. E o que são métodos? São todas as funções que estão dentro das classes."
      ]
    },
    {
      "cell_type": "markdown",
      "metadata": {
        "id": "ke76e-WwTdYN"
      },
      "source": [
        "e esse ```__init__``` são os métodos construtores, é tudo aquilo que é obrigatório termos na nossa função. Ou seja: na classe Lampada que criamos, é obrigatório uma Lampada ter uma voltagem, uma cor e estar ligada ou desligada.\n",
        "\n"
      ]
    },
    {
      "cell_type": "markdown",
      "metadata": {
        "id": "HGYcGzSMT2gW"
      },
      "source": [
        "E o ```self```? O self nada mais é do que o objeto que está executando o método.  \n",
        "  \n",
        "PS: Utilizamos a palavra ```self``` por convenção, mas ela poderia ser qualquer palavra."
      ]
    },
    {
      "cell_type": "markdown",
      "metadata": {
        "id": "FBVF6IR4UuFy"
      },
      "source": [
        "## Atributos Públicos e Atributos Privados\n",
        "### Em Python, por convenção, ficou estabelicido que todo atributo de uma classe é público. Ou seja, pode ser acessado em todo o projeto.  \n",
        "### Caso queiramos, demonstrar que determinado atributo deve ser tratado como privado, ou seja, que deve ser acessado/utilizado somente dentro da própria classe onde está declarado, utilizasse __ duplo underscore no início de seu nome. Isso é conhecido também como Name Mangling."
      ]
    },
    {
      "cell_type": "markdown",
      "metadata": {
        "id": "zXpBV9pLZctW"
      },
      "source": [
        "## Classes com atributos de instância público:"
      ]
    },
    {
      "cell_type": "code",
      "metadata": {
        "id": "GlNjdOZRRX6Q"
      },
      "source": [
        "class Lampada:\n",
        "\n",
        "  def __init__(self, voltagem, cor):\n",
        "    self.voltagem = voltagem\n",
        "    self.cor = cor\n",
        "    self.ligada = False\n",
        "\n",
        "\n",
        "class ContaCorrente:\n",
        "\n",
        "  def __init__(self, numero, limite, saldo):\n",
        "    self.numero = numero\n",
        "    self. limite = limite\n",
        "    self. saldo = saldo\n",
        "\n",
        "\n",
        "class Produto:\n",
        "\n",
        "  def __init__(self, nome, descricao, valor):\n",
        "    self.nome = nome\n",
        "    self.descricao = descricao\n",
        "    self.valor = valor\n",
        "\n",
        "\n",
        "class Usuario:\n",
        "\n",
        "  def __init__(self, nome, email, senha):\n",
        "    self.nome = nome\n",
        "    self.email = email\n",
        "    self.senha = senha"
      ],
      "execution_count": null,
      "outputs": []
    },
    {
      "cell_type": "markdown",
      "metadata": {
        "id": "ReXiYEjoZyp2"
      },
      "source": [
        "## Classe com atributo privado"
      ]
    },
    {
      "cell_type": "code",
      "metadata": {
        "id": "cosTyG3eZfn_"
      },
      "source": [
        ""
      ],
      "execution_count": null,
      "outputs": []
    },
    {
      "cell_type": "markdown",
      "metadata": {
        "id": "zc-HEETeZ1qx"
      },
      "source": [
        "### OBS: Lembre-se que isso é apenas uma convenção, ou seja, a linguagem Python não vai impedir que façamos acesso aos atributos sinalizados como privador fora da classe."
      ]
    },
    {
      "cell_type": "markdown",
      "metadata": {
        "id": "002Z_jiraB-V"
      },
      "source": [
        "## Exemplo:"
      ]
    },
    {
      "cell_type": "code",
      "metadata": {
        "colab": {
          "base_uri": "https://localhost:8080/",
          "height": 214
        },
        "id": "P0UOJ4I5aA8G",
        "outputId": "434f61bb-f420-4262-999d-4f77379c1758"
      },
      "source": [
        "class Acesso:\n",
        "\n",
        "  def __init__(self, email, senha):\n",
        "    self.email = email\n",
        "    self.__senha = senha\n",
        "\n",
        "\n",
        "user = Acesso('user@gmail.com', 123456)\n",
        "\n",
        "print(user.email)\n",
        "\n",
        "print(user.__senha)  # AtributteError"
      ],
      "execution_count": null,
      "outputs": [
        {
          "output_type": "stream",
          "text": [
            "user@gmail.com\n"
          ],
          "name": "stdout"
        },
        {
          "output_type": "error",
          "ename": "AttributeError",
          "evalue": "ignored",
          "traceback": [
            "\u001b[0;31m---------------------------------------------------------------------------\u001b[0m",
            "\u001b[0;31mAttributeError\u001b[0m                            Traceback (most recent call last)",
            "\u001b[0;32m<ipython-input-21-269dd950fc7b>\u001b[0m in \u001b[0;36m<module>\u001b[0;34m()\u001b[0m\n\u001b[1;32m     10\u001b[0m \u001b[0mprint\u001b[0m\u001b[0;34m(\u001b[0m\u001b[0muser\u001b[0m\u001b[0;34m.\u001b[0m\u001b[0memail\u001b[0m\u001b[0;34m)\u001b[0m\u001b[0;34m\u001b[0m\u001b[0;34m\u001b[0m\u001b[0m\n\u001b[1;32m     11\u001b[0m \u001b[0;34m\u001b[0m\u001b[0m\n\u001b[0;32m---> 12\u001b[0;31m \u001b[0mprint\u001b[0m\u001b[0;34m(\u001b[0m\u001b[0muser\u001b[0m\u001b[0;34m.\u001b[0m\u001b[0m__senha\u001b[0m\u001b[0;34m)\u001b[0m  \u001b[0;31m# AtributteError\u001b[0m\u001b[0;34m\u001b[0m\u001b[0;34m\u001b[0m\u001b[0m\n\u001b[0m",
            "\u001b[0;31mAttributeError\u001b[0m: 'Acesso' object has no attribute '__senha'"
          ]
        }
      ]
    },
    {
      "cell_type": "markdown",
      "metadata": {
        "id": "YiI1eY2oavS2"
      },
      "source": [
        "Veja que não consegui fazer acesso. Mas eu não tinha dito que o Python não ia me impedir de fazer esse acesso? Então, isso é uma defesa básica do Python dizendo que o atributo é privado mas ainda podemos acessá-lo:"
      ]
    },
    {
      "cell_type": "code",
      "metadata": {
        "colab": {
          "base_uri": "https://localhost:8080/"
        },
        "id": "JrmwWc8uaHLm",
        "outputId": "62f393d8-4120-4ca5-94bf-60b11bab9157"
      },
      "source": [
        "class Acesso:\n",
        "\n",
        "  def __init__(self, email, senha):\n",
        "    self.email = email\n",
        "    self.__senha = senha\n",
        "\n",
        "\n",
        "user = Acesso('user@gmail.com', 123456)\n",
        "\n",
        "print(user.email)\n",
        "\n",
        "print(user._Acesso__senha)  # Temos acesso. Mas não deveríamos fazer esse acesso. (Name Mangling)"
      ],
      "execution_count": null,
      "outputs": [
        {
          "output_type": "stream",
          "text": [
            "user@gmail.com\n",
            "123456\n"
          ],
          "name": "stdout"
        }
      ]
    },
    {
      "cell_type": "markdown",
      "metadata": {
        "id": "K2ZMZQrRbTI_"
      },
      "source": [
        "Como pudemos ver, ainda conseguimos acessar."
      ]
    },
    {
      "cell_type": "markdown",
      "metadata": {
        "id": "4iU7D9L1cwNa"
      },
      "source": [
        "## O que significa atributos de instância?\n",
        "### Significa que ao criarmos instância/objetos de uma classe, todas as instâncias terão estes atributos."
      ]
    },
    {
      "cell_type": "code",
      "metadata": {
        "colab": {
          "base_uri": "https://localhost:8080/"
        },
        "id": "sNULjjcDbLyb",
        "outputId": "416fa930-2b4c-4735-a24c-9f42b7e0f303"
      },
      "source": [
        "class Acesso:\n",
        "\n",
        "  def __init__(self, email, senha):\n",
        "    self.email = email\n",
        "    self.__senha = senha\n",
        "\n",
        "  def mostra_senha(self):\n",
        "    print(self.__senha)\n",
        "  \n",
        "  def mostra_email(self):\n",
        "    print(self.email)\n",
        "\n",
        "\n",
        "user1 = Acesso('user1@gmail.com', '123456')\n",
        "user2 = Acesso('user2@gmail.com', '654321')\n",
        "\n",
        "user1.mostra_email()\n",
        "user2.mostra_email()"
      ],
      "execution_count": 5,
      "outputs": [
        {
          "output_type": "stream",
          "text": [
            "user1@gmail.com\n",
            "user2@gmail.com\n"
          ],
          "name": "stdout"
        }
      ]
    },
    {
      "cell_type": "markdown",
      "metadata": {
        "id": "_2bOzravn6PH"
      },
      "source": [
        "## Atributos de classe:\n",
        "- Atributos de classe são atributos que são declarados diretamente na classe, ou seja, fora do construtor. Geralmente já inicializamos um valor, e este valor é compartilhado entre todas as instâncias da classe. Ou seja, ao invés de cada instância da classe ter seus próprios valores (como é o caso dos atributos de instância), com os atributos de classe todas as instâncias teram o mesmo valor para este atributo."
      ]
    },
    {
      "cell_type": "markdown",
      "metadata": {
        "id": "ArzuVjQPr8D4"
      },
      "source": [
        "### OBS: Não precisamos criar uma instância de uma classe para fazer acesso a um atributo de classe:"
      ]
    },
    {
      "cell_type": "code",
      "metadata": {
        "id": "z8RZ1JbKeHmo",
        "colab": {
          "base_uri": "https://localhost:8080/"
        },
        "outputId": "2aa67b3c-9386-4c6e-f0c4-2f84029602b1"
      },
      "source": [
        "class Produto:\n",
        "  # Atributo de classe\n",
        "  imposto = 1.05  # 0.05% de imposto\n",
        "\n",
        "  def __init__(self, nome, descricao, valor):\n",
        "    self.nome = nome\n",
        "    self.descricao = descricao\n",
        "    self.valor = (valor * Produto.imposto)\n",
        "\n",
        "\n",
        "p1 = Produto('Playstation 4', 'Video Game', 2300)\n",
        "p2 = Produto('Xbox Series S', 'Video Game', 4500)\n",
        "\n",
        "print(p1.imposto)  # Acesso possível mas incorreto de um atributo de classe.\n",
        "print(p2.imposto)  # Acesso possível mas incorreto de um atributo de classe.\n",
        "\n",
        "print(Produto.imposto)  # Acesso correto de um atributo de classe."
      ],
      "execution_count": 20,
      "outputs": [
        {
          "output_type": "stream",
          "text": [
            "1.05\n",
            "1.05\n",
            "1.05\n"
          ],
          "name": "stdout"
        }
      ]
    },
    {
      "cell_type": "markdown",
      "metadata": {
        "id": "f4G8PnSxr31E"
      },
      "source": [
        "## Refatorando a classe Produto:"
      ]
    },
    {
      "cell_type": "code",
      "metadata": {
        "colab": {
          "base_uri": "https://localhost:8080/"
        },
        "id": "Lz3me_51q1EC",
        "outputId": "ee0a9126-5865-437e-e6f7-d300ddd8171b"
      },
      "source": [
        "class Produto:\n",
        "  imposto = 1.05\n",
        "  contador = 0\n",
        "\n",
        "  def __init__(self, nome, descricao, valor):\n",
        "    self.id = Produto.contador + 1\n",
        "    self.nome = nome\n",
        "    self.descricao = descricao\n",
        "    self.valor = (valor * Produto.imposto)\n",
        "    Produto.contador = self.id\n",
        "\n",
        "\n",
        "p1 = Produto('Playstation 4', 'Video Game', 2300)\n",
        "p2 = Produto('Xbox Series S', 'Video Game', 4500)\n",
        "\n",
        "print(p1.id)\n",
        "print(p2.id)"
      ],
      "execution_count": 23,
      "outputs": [
        {
          "output_type": "stream",
          "text": [
            "1\n",
            "2\n"
          ],
          "name": "stdout"
        }
      ]
    },
    {
      "cell_type": "markdown",
      "metadata": {
        "id": "phvgDbUUs5JP"
      },
      "source": [
        "Em linguagens como Java, os atributos de classe são chamados de atributos estáticos;"
      ]
    },
    {
      "cell_type": "markdown",
      "metadata": {
        "id": "9_V4j22ktYZg"
      },
      "source": [
        "## Atributos Dinâmicos:\n",
        "- Atributos Dinâmicos -> Um atributo de instância que pode ser criado em tempo de execução.\n",
        "### OBS: O atributo de instância será exclusivo da instância que o criou."
      ]
    },
    {
      "cell_type": "code",
      "metadata": {
        "id": "keaIVgQ-sTqC"
      },
      "source": [
        "class Produto:\n",
        "  imposto = 1.05\n",
        "  contador = 0\n",
        "\n",
        "  def __init__(self, nome, descricao, valor):\n",
        "    self.id = Produto.contador + 1\n",
        "    self.nome = nome\n",
        "    self.descricao = descricao\n",
        "    self.valor = (valor * Produto.imposto)\n",
        "    Produto.contador = self.id\n",
        "\n",
        "\n",
        "p1 = Produto('Playstation 4', 'Video Game', 2300)\n",
        "p2 = Produto('Arroz', 'Mercearia', 5.99)"
      ],
      "execution_count": 24,
      "outputs": []
    },
    {
      "cell_type": "markdown",
      "metadata": {
        "id": "g7iCZGvWuMkc"
      },
      "source": [
        "### Criando um atributo dinâmico em tempo de execução:"
      ]
    },
    {
      "cell_type": "code",
      "metadata": {
        "colab": {
          "base_uri": "https://localhost:8080/"
        },
        "id": "zI6wJuITuLhW",
        "outputId": "6d84c137-ad7b-4ae9-8969-e09e1fbfb26a"
      },
      "source": [
        "class Produto:\n",
        "  imposto = 1.05\n",
        "  contador = 0\n",
        "\n",
        "  def __init__(self, nome, descricao, valor):\n",
        "    self.id = Produto.contador + 1\n",
        "    self.nome = nome\n",
        "    self.descricao = descricao\n",
        "    self.valor = (valor * Produto.imposto)\n",
        "    Produto.contador = self.id\n",
        "\n",
        "\n",
        "p1 = Produto('Playstation 4', 'Video Game', 2300)\n",
        "p2 = Produto('Arroz', 'Mercearia', 5.99)\n",
        "\n",
        "p2.peso = '5kg'  # Note que na classe Produto não existe o atributo peso.\n",
        "\n",
        "print(f'produto: {p2.nome}, descrição: {p2.descricao}, valor: {p2.valor}, peso: {p2.peso}')\n",
        "# print(f'produto: {p1.nome}, descrição: {p1.descricao}, valor: {p1.valor}, peso: {p1.peso}')\n"
      ],
      "execution_count": 33,
      "outputs": [
        {
          "output_type": "stream",
          "text": [
            "produto: Arroz, descrição: Mercearia, valor: 6.2895, peso: 5kg\n"
          ],
          "name": "stdout"
        }
      ]
    },
    {
      "cell_type": "markdown",
      "metadata": {
        "id": "IzakNNigvcx-"
      },
      "source": [
        "### Podemos fazer acesso a todos os atributos da classe:"
      ]
    },
    {
      "cell_type": "code",
      "metadata": {
        "colab": {
          "base_uri": "https://localhost:8080/"
        },
        "id": "G5RZ3Y0bvh6u",
        "outputId": "3ebca18f-82a6-400b-a49e-f92a1804d945"
      },
      "source": [
        "print(p1.__dict__)\n",
        "print(p2.__dict__)"
      ],
      "execution_count": 30,
      "outputs": [
        {
          "output_type": "stream",
          "text": [
            "{'id': 1, 'nome': 'Playstation 4', 'descricao': 'Video Game', 'valor': 2415.0}\n",
            "{'id': 2, 'nome': 'Arroz', 'descricao': 'Mercearia', 'valor': 6.2895, 'peso': '5kg'}\n"
          ],
          "name": "stdout"
        }
      ]
    },
    {
      "cell_type": "markdown",
      "metadata": {
        "id": "5LT0QZIIu5GM"
      },
      "source": [
        "### Deletando atributos:"
      ]
    },
    {
      "cell_type": "code",
      "metadata": {
        "colab": {
          "base_uri": "https://localhost:8080/"
        },
        "id": "oD8YbQliuaMe",
        "outputId": "f96177f0-9eb4-42e6-9718-829992dc54b4"
      },
      "source": [
        "class Produto:\n",
        "  imposto = 1.05\n",
        "  contador = 0\n",
        "\n",
        "  def __init__(self, nome, descricao, valor):\n",
        "    self.id = Produto.contador + 1\n",
        "    self.nome = nome\n",
        "    self.descricao = descricao\n",
        "    self.valor = (valor * Produto.imposto)\n",
        "    Produto.contador = self.id\n",
        "\n",
        "\n",
        "p1 = Produto('Playstation 4', 'Video Game', 2300)\n",
        "p2 = Produto('Arroz', 'Mercearia', 5.99)\n",
        "\n",
        "p2.peso = '5kg'  # Note que na classe Produto não existe o atributo peso.\n",
        "\n",
        "print(p2.__dict__)\n",
        "del p2.peso\n",
        "del p2.valor\n",
        "del p2.descricao\n",
        "print(p2.__dict__)"
      ],
      "execution_count": 38,
      "outputs": [
        {
          "output_type": "stream",
          "text": [
            "{'id': 2, 'nome': 'Arroz', 'descricao': 'Mercearia', 'valor': 6.2895, 'peso': '5kg'}\n",
            "{'id': 2, 'nome': 'Arroz'}\n"
          ],
          "name": "stdout"
        }
      ]
    },
    {
      "cell_type": "code",
      "metadata": {
        "id": "lgE-04H6vLhH"
      },
      "source": [
        ""
      ],
      "execution_count": null,
      "outputs": []
    }
  ]
}